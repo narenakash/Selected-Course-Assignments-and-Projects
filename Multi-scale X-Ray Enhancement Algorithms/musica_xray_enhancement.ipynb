{
 "cells": [
  {
   "cell_type": "code",
   "execution_count": null,
   "metadata": {
    "ExecuteTime": {
     "end_time": "2021-02-01T17:00:06.875312Z",
     "start_time": "2021-02-01T17:00:06.869255Z"
    }
   },
   "outputs": [],
   "source": [
    "import numpy as np\n",
    "import cv2\n",
    "import matplotlib.pyplot as plt\n",
    "from skimage.transform import resize\n",
    "from skimage.filters import gaussian"
   ]
  },
  {
   "cell_type": "code",
   "execution_count": null,
   "metadata": {
    "ExecuteTime": {
     "end_time": "2021-02-01T17:03:02.943615Z",
     "start_time": "2021-02-01T17:03:02.906293Z"
    }
   },
   "outputs": [],
   "source": [
    "def musica_image_enhancement(image, kernel=np.array([0.0625, 0.2500, 0.5000, 0.2500, 0.0625])):\n",
    "    image = image.astype(float)\n",
    "#     print(image.shape, np.max(image))\n",
    "\n",
    "    levels = np.floor(np.log2(np.min((image.shape[0], image.shape[1])))).astype(int)\n",
    "    kernel = np.kron(kernel, kernel.T)\n",
    "    \n",
    "    # Layer 01 ----------------------------------------------------------------------------------------------------\n",
    "    layers_01 = dict.fromkeys(np.arange(1, levels + 1))\n",
    "    \n",
    "    layers_01[1] = image\n",
    "    \n",
    "    for i in range(2, levels + 1):\n",
    "        image_temp_output = np.zeros((int(layers_01[i - 1].shape[0] / 2), int(layers_01[i - 1].shape[1] / 2), image.shape[2]))\n",
    "        for j in range(0, image.shape[2]):\n",
    "            smoothed_image_plane = gaussian(layers_01[i - 1][:, :, j], 25)\n",
    "            image_temp_output[:, :, j] = resize(smoothed_image_plane, (int(smoothed_image_plane.shape[0] / 2), int(smoothed_image_plane.shape[1] / 2)))\n",
    "        layers_01[i] = image_temp_output\n",
    "#         print(layers_01[i].shape, np.max(layers_01[i]))\n",
    "                \n",
    "    print(\"<---Layer 01--->\")\n",
    "    \n",
    "    # Layer 02 ----------------------------------------------------------------------------------------------------\n",
    "    layers_02 = dict.fromkeys(np.arange(1, levels + 1))\n",
    "    \n",
    "    for i in range(1, levels):\n",
    "        layers_02[i] = resize(layers_01[i + 1], layers_01[i].shape)\n",
    "#         print(layers_02[i].shape, np.max(layers_02[i]))\n",
    "    print(\"<---Layer 02--->\")\n",
    "    \n",
    "    # Layer 03 ----------------------------------------------------------------------------------------------------\n",
    "    layers_03 = dict.fromkeys(np.arange(1, levels + 1))\n",
    "    \n",
    "    for i in range(1, levels):\n",
    "        layers_03[i] = layers_01[i] - layers_02[i] \n",
    "#         print(layers_03[i].shape, np.max(layers_03[i]))\n",
    "        \n",
    "    print(\"<---Layer 03--->\")\n",
    "     \n",
    "    # Layer 04 ----------------------------------------------------------------------------------------------------\n",
    "    layers_04 = dict.fromkeys(np.arange(1, levels + 1))\n",
    "    \n",
    "    for i in range(levels - 1, 0, -1):\n",
    "        maximum = np.max(layers_03[i])\n",
    "#         print(\"==== Iter: \" + str(i) + \" Max: \", np.max(layers_03[i]))\n",
    "        \n",
    "        a = np.power(maximum, 0.1)\n",
    "#         print(\"==== Iter: \" + str(i) + \" Max^0.4: \", a)\n",
    "        \n",
    "        b = np.sin(np.deg2rad(layers_03[i]))\n",
    "#         print(\"==== Iter: \" + str(i) + \" Max(b): \", np.max(b))\n",
    "        \n",
    "        c = np.power(np.absolute(layers_03[i]), 0.6)\n",
    "#         print(\"==== Iter: \" + str(i) + \" Max(c): \", np.max(c))\n",
    "        \n",
    "        layers_04[i] = np.absolute(a * (b * c)) \n",
    "#         print(layers_04[i].shape, np.max(layers_04[i]))\n",
    "        \n",
    "    print(\"<---Layer 04--->\")\n",
    "     \n",
    "    # Layer 05 ----------------------------------------------------------------------------------------------------\n",
    "    layers_05 = dict.fromkeys(np.arange(1, levels + 1))\n",
    "    \n",
    "    for i in range(1, levels):\n",
    "        layers_05[i] = np.floor(np.absolute(layers_01[i] + np.abs(layers_04[i])) * 255)\n",
    "#         print(layers_05[i].shape, np.max(layers_05[i]), np.min(layers_05[i]))\n",
    "    \n",
    "    print(\"<---Layer 05--->\")\n",
    "    \n",
    "    return layers_05[1]"
   ]
  },
  {
   "cell_type": "code",
   "execution_count": null,
   "metadata": {
    "ExecuteTime": {
     "end_time": "2021-02-01T17:03:03.932643Z",
     "start_time": "2021-02-01T17:03:03.187658Z"
    }
   },
   "outputs": [],
   "source": [
    "image = cv2.imread('data/chest.jpg')\n",
    "image = cv2.cvtColor(image, cv2.COLOR_BGR2RGB)\n",
    "\n",
    "plt.imshow(image)\n",
    "plt.title('Input Image')\n",
    "plt.show()"
   ]
  },
  {
   "cell_type": "code",
   "execution_count": null,
   "metadata": {
    "ExecuteTime": {
     "end_time": "2021-02-01T17:03:04.547447Z",
     "start_time": "2021-02-01T17:03:03.945193Z"
    }
   },
   "outputs": [],
   "source": [
    "image.shape"
   ]
  },
  {
   "cell_type": "code",
   "execution_count": null,
   "metadata": {
    "ExecuteTime": {
     "end_time": "2021-02-01T17:03:05.109901Z",
     "start_time": "2021-02-01T17:03:04.561319Z"
    }
   },
   "outputs": [],
   "source": [
    "plt.imshow(musica_image_enhancement(image))"
   ]
  },
  {
   "cell_type": "code",
   "execution_count": null,
   "metadata": {
    "ExecuteTime": {
     "end_time": "2021-02-01T17:03:05.860503Z",
     "start_time": "2021-02-01T17:03:05.352752Z"
    }
   },
   "outputs": [],
   "source": [
    "# from sklearn.preprocessing import MinMaxScaler\n",
    "# scaler = MinMaxScaler()\n",
    "\n",
    "# out = musica_image_enhancement(image)\n",
    "\n",
    "# scaler.fit(out[:, : , 0])\n",
    "# out[:, : , 0] = scaler.transform(out[:, : , 0]) * 255\n",
    "\n",
    "# scaler.fit(out[:, : , 1])\n",
    "# out[:, : , 1] = scaler.transform(out[:, : , 1]) * 255\n",
    "\n",
    "# scaler.fit(out[:, : , 2])\n",
    "# out[:, : , 2] = scaler.transform(out[:, : , 2]) * 255\n",
    "\n",
    "# plt.imshow(out)"
   ]
  }
 ],
 "metadata": {
  "kernelspec": {
   "display_name": "Python 3",
   "language": "python",
   "name": "python3"
  },
  "language_info": {
   "codemirror_mode": {
    "name": "ipython",
    "version": 3
   },
   "file_extension": ".py",
   "mimetype": "text/x-python",
   "name": "python",
   "nbconvert_exporter": "python",
   "pygments_lexer": "ipython3",
   "version": "3.8.1"
  },
  "toc": {
   "base_numbering": 1,
   "nav_menu": {},
   "number_sections": true,
   "sideBar": true,
   "skip_h1_title": false,
   "title_cell": "Table of Contents",
   "title_sidebar": "Contents",
   "toc_cell": false,
   "toc_position": {},
   "toc_section_display": true,
   "toc_window_display": false
  },
  "varInspector": {
   "cols": {
    "lenName": 16,
    "lenType": 16,
    "lenVar": 40
   },
   "kernels_config": {
    "python": {
     "delete_cmd_postfix": "",
     "delete_cmd_prefix": "del ",
     "library": "var_list.py",
     "varRefreshCmd": "print(var_dic_list())"
    },
    "r": {
     "delete_cmd_postfix": ") ",
     "delete_cmd_prefix": "rm(",
     "library": "var_list.r",
     "varRefreshCmd": "cat(var_dic_list()) "
    }
   },
   "types_to_exclude": [
    "module",
    "function",
    "builtin_function_or_method",
    "instance",
    "_Feature"
   ],
   "window_display": false
  }
 },
 "nbformat": 4,
 "nbformat_minor": 4
}
